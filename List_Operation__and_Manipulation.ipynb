{
  "nbformat": 4,
  "nbformat_minor": 0,
  "metadata": {
    "colab": {
      "provenance": [],
      "authorship_tag": "ABX9TyNbj4Mvza8WbBz+Wmh7tMRT",
      "include_colab_link": true
    },
    "kernelspec": {
      "name": "python3",
      "display_name": "Python 3"
    },
    "language_info": {
      "name": "python"
    }
  },
  "cells": [
    {
      "cell_type": "markdown",
      "metadata": {
        "id": "view-in-github",
        "colab_type": "text"
      },
      "source": [
        "<a href=\"https://colab.research.google.com/github/ft10101/Basic-Programming-Problems/blob/main/List_Operation__and_Manipulation.ipynb\" target=\"_parent\"><img src=\"https://colab.research.google.com/assets/colab-badge.svg\" alt=\"Open In Colab\"/></a>"
      ]
    },
    {
      "cell_type": "code",
      "execution_count": 1,
      "metadata": {
        "id": "2osSUgR8HdUp"
      },
      "outputs": [],
      "source": [
        "list1 = [1,2,3,4,5]"
      ]
    },
    {
      "cell_type": "code",
      "source": [
        "square=[]\n",
        "for x in list1:\n",
        "  square.append(pow(x,2)) #for loop for square of number\n",
        "square #no scope for parallel processing"
      ],
      "metadata": {
        "colab": {
          "base_uri": "https://localhost:8080/"
        },
        "id": "wpRHrkc-HseV",
        "outputId": "f3b6e9ae-9985-4b57-be42-98f1b92cc78f"
      },
      "execution_count": 2,
      "outputs": [
        {
          "output_type": "execute_result",
          "data": {
            "text/plain": [
              "[1, 4, 9, 16, 25]"
            ]
          },
          "metadata": {},
          "execution_count": 2
        }
      ]
    },
    {
      "cell_type": "code",
      "source": [
        "def square_me(x): #more efficient \n",
        "    return x*x"
      ],
      "metadata": {
        "id": "pBPd4d-DIGu0"
      },
      "execution_count": 3,
      "outputs": []
    },
    {
      "cell_type": "code",
      "source": [
        "square = map(square_me,list1) #map() iterates through the list and transforms each element using the function\n",
        "list(square)"
      ],
      "metadata": {
        "colab": {
          "base_uri": "https://localhost:8080/"
        },
        "id": "hyhmleeyI-JD",
        "outputId": "3a37e786-4a15-4e40-9f38-0aadbcf5dc97"
      },
      "execution_count": 4,
      "outputs": [
        {
          "output_type": "execute_result",
          "data": {
            "text/plain": [
              "[1, 4, 9, 16, 25]"
            ]
          },
          "metadata": {},
          "execution_count": 4
        }
      ]
    },
    {
      "cell_type": "code",
      "source": [
        "squarelist = map(lambda x:x*x, list1)  #anonymous function lambda\n",
        "squarelist = list(squarelist)\n",
        "squarelist"
      ],
      "metadata": {
        "colab": {
          "base_uri": "https://localhost:8080/"
        },
        "id": "V1s-0Ti3JHKO",
        "outputId": "50db0a7b-0deb-456b-a8ff-472e2fb7d726"
      },
      "execution_count": 5,
      "outputs": [
        {
          "output_type": "execute_result",
          "data": {
            "text/plain": [
              "[1, 4, 9, 16, 25]"
            ]
          },
          "metadata": {},
          "execution_count": 5
        }
      ]
    },
    {
      "cell_type": "code",
      "source": [
        "evenlist = filter(lambda x : x % 2 == 0, squarelist)  #filter function to filter\n",
        "evenlist = list(evenlist)\n",
        "evenlist"
      ],
      "metadata": {
        "colab": {
          "base_uri": "https://localhost:8080/"
        },
        "id": "hgPm0PnrKTa_",
        "outputId": "9a86378a-dae0-47b8-ff0e-ee9064353abc"
      },
      "execution_count": 6,
      "outputs": [
        {
          "output_type": "execute_result",
          "data": {
            "text/plain": [
              "[4, 16]"
            ]
          },
          "metadata": {},
          "execution_count": 6
        }
      ]
    }
  ]
}