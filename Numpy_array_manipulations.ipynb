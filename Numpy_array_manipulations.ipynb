{
  "nbformat": 4,
  "nbformat_minor": 0,
  "metadata": {
    "colab": {
      "provenance": [],
      "authorship_tag": "ABX9TyPNiU8FvOz0H0eUpDjewSmp",
      "include_colab_link": true
    },
    "kernelspec": {
      "name": "python3",
      "display_name": "Python 3"
    },
    "language_info": {
      "name": "python"
    }
  },
  "cells": [
    {
      "cell_type": "markdown",
      "metadata": {
        "id": "view-in-github",
        "colab_type": "text"
      },
      "source": [
        "<a href=\"https://colab.research.google.com/github/ft10101/Basic-Programming-Problems/blob/main/First_day_with_python_.ipynb\" target=\"_parent\"><img src=\"https://colab.research.google.com/assets/colab-badge.svg\" alt=\"Open In Colab\"/></a>"
      ]
    },
    {
      "cell_type": "code",
      "source": [
        "!pip install numpy #just to make sure numpy is installed."
      ],
      "metadata": {
        "id": "wBsHcOkhyq1B"
      },
      "execution_count": null,
      "outputs": []
    },
    {
      "cell_type": "markdown",
      "source": [
        "**Adding two variables**"
      ],
      "metadata": {
        "id": "kr5Bw6ERaaNr"
      }
    },
    {
      "cell_type": "code",
      "source": [
        "a = 10\n",
        "b = 20\n",
        "print(a+b)"
      ],
      "metadata": {
        "colab": {
          "base_uri": "https://localhost:8080/"
        },
        "id": "g__4tsbGaHQo",
        "outputId": "d09a821d-603f-4d69-d1ac-3a7ccd7a2bd3"
      },
      "execution_count": 31,
      "outputs": [
        {
          "output_type": "stream",
          "name": "stdout",
          "text": [
            "30\n"
          ]
        }
      ]
    },
    {
      "cell_type": "markdown",
      "source": [
        "**Creating 1D array**"
      ],
      "metadata": {
        "id": "F5EOE1igUb33"
      }
    },
    {
      "cell_type": "code",
      "execution_count": 33,
      "metadata": {
        "colab": {
          "base_uri": "https://localhost:8080/"
        },
        "id": "CjF0lcuFOKXJ",
        "outputId": "645aa2a4-e831-49e7-d838-310c08c82396"
      },
      "outputs": [
        {
          "output_type": "stream",
          "name": "stdout",
          "text": [
            "[1 2 3]\n"
          ]
        },
        {
          "output_type": "execute_result",
          "data": {
            "text/plain": [
              "(3,)"
            ]
          },
          "metadata": {},
          "execution_count": 33
        }
      ],
      "source": [
        "import numpy as np #importing numpy as a variable np\n",
        "a = np.array([1,2,3]) #creating 1D array using numpy as of just numeric array \n",
        "print(a) #prints array that's stored in variable a\n",
        "a.shape #tells us the dimension of that array "
      ]
    },
    {
      "cell_type": "markdown",
      "source": [
        "**Creating 2D array**"
      ],
      "metadata": {
        "id": "yjkAd9oSUuud"
      }
    },
    {
      "cell_type": "code",
      "source": [
        "b = np.array([(1,2,3,4),(5,6,7,8)])  #creating 2D array\n",
        "print(b)  #printing 2D array saved in b\n",
        "b.shape  #will tell you number of rows and columns of array"
      ],
      "metadata": {
        "colab": {
          "base_uri": "https://localhost:8080/"
        },
        "id": "2XpCWOQhRb6g",
        "outputId": "546c6829-7d9e-44d8-e406-d1073a97b742"
      },
      "execution_count": 34,
      "outputs": [
        {
          "output_type": "stream",
          "name": "stdout",
          "text": [
            "[[1 2 3 4]\n",
            " [5 6 7 8]]\n"
          ]
        },
        {
          "output_type": "execute_result",
          "data": {
            "text/plain": [
              "(2, 4)"
            ]
          },
          "metadata": {},
          "execution_count": 34
        }
      ]
    },
    {
      "cell_type": "markdown",
      "source": [
        "**2D Array of data type float**"
      ],
      "metadata": {
        "id": "VO7We5ssVtUV"
      }
    },
    {
      "cell_type": "code",
      "source": [
        "c = np.array([(1,2,3),(4,5,6)],dtype=float)\n",
        "#will create a 2D array of data type float\n",
        "print(c)"
      ],
      "metadata": {
        "id": "34_eZTnKThW8",
        "colab": {
          "base_uri": "https://localhost:8080/"
        },
        "outputId": "dffaccfc-97d6-40e5-8b5f-9c2efa9fc1d2"
      },
      "execution_count": 38,
      "outputs": [
        {
          "output_type": "stream",
          "name": "stdout",
          "text": [
            "[[1. 2. 3.]\n",
            " [4. 5. 6.]]\n"
          ]
        }
      ]
    },
    {
      "cell_type": "markdown",
      "source": [
        "**Matrix of 0's only**"
      ],
      "metadata": {
        "id": "dajw9rk3f3s4"
      }
    },
    {
      "cell_type": "code",
      "source": [
        "d = np.zeros((3,6),dtype=int)\n",
        "#the two arguments here represent the dimension of the array that it will form of only zeros\n",
        "print(d)"
      ],
      "metadata": {
        "colab": {
          "base_uri": "https://localhost:8080/"
        },
        "id": "8gJ8KPJnV82S",
        "outputId": "e515caad-f0b0-4880-90fb-55fb574e5116"
      },
      "execution_count": 40,
      "outputs": [
        {
          "output_type": "stream",
          "name": "stdout",
          "text": [
            "[[0 0 0 0 0 0]\n",
            " [0 0 0 0 0 0]\n",
            " [0 0 0 0 0 0]]\n"
          ]
        }
      ]
    },
    {
      "cell_type": "markdown",
      "source": [
        "**Matrix of 1's only**"
      ],
      "metadata": {
        "id": "QnH4xHPhfolE"
      }
    },
    {
      "cell_type": "code",
      "source": [
        "e = np.ones((4,5)) #here 4*5 represents the dimensions of the matrix\n",
        "print(e)"
      ],
      "metadata": {
        "colab": {
          "base_uri": "https://localhost:8080/"
        },
        "id": "s4esE6-ccj28",
        "outputId": "82312e78-9188-4b37-f7c3-b2d451b09de9"
      },
      "execution_count": 41,
      "outputs": [
        {
          "output_type": "stream",
          "name": "stdout",
          "text": [
            "[[1. 1. 1. 1. 1.]\n",
            " [1. 1. 1. 1. 1.]\n",
            " [1. 1. 1. 1. 1.]\n",
            " [1. 1. 1. 1. 1.]]\n"
          ]
        }
      ]
    },
    {
      "cell_type": "markdown",
      "source": [
        "**Matrix of a particular number**"
      ],
      "metadata": {
        "id": "YqF2m4CjfL0k"
      }
    },
    {
      "cell_type": "code",
      "source": [
        "f = np.full((5,4),3) #here the parameters have dimension size as 5*4 and 3 as that particular number\n",
        "print(f)"
      ],
      "metadata": {
        "colab": {
          "base_uri": "https://localhost:8080/"
        },
        "id": "TbFH06W5dCGq",
        "outputId": "50938531-5cd5-45bf-bc7c-3346f9d7d253"
      },
      "execution_count": 45,
      "outputs": [
        {
          "output_type": "stream",
          "name": "stdout",
          "text": [
            "[[3 3 3 3]\n",
            " [3 3 3 3]\n",
            " [3 3 3 3]\n",
            " [3 3 3 3]\n",
            " [3 3 3 3]]\n"
          ]
        }
      ]
    },
    {
      "cell_type": "markdown",
      "source": [
        "**Identity Matrix**"
      ],
      "metadata": {
        "id": "42PAsaXme8vW"
      }
    },
    {
      "cell_type": "code",
      "source": [
        "g = np.eye(4) #here 4 represents 4*4 matrix\n",
        "print(g)"
      ],
      "metadata": {
        "colab": {
          "base_uri": "https://localhost:8080/"
        },
        "id": "AZ9oRscsdpH8",
        "outputId": "5f723af4-7505-4d6d-837e-40500212c024"
      },
      "execution_count": 43,
      "outputs": [
        {
          "output_type": "stream",
          "name": "stdout",
          "text": [
            "[[1. 0. 0. 0.]\n",
            " [0. 1. 0. 0.]\n",
            " [0. 0. 1. 0.]\n",
            " [0. 0. 0. 1.]]\n"
          ]
        }
      ]
    },
    {
      "cell_type": "markdown",
      "source": [
        "**Random matrix between 0-1**"
      ],
      "metadata": {
        "id": "Qe7lgODNfCFr"
      }
    },
    {
      "cell_type": "code",
      "source": [
        "h = np.random.random((3,6)) #here random.random gives us numbers just between 0 and 1 only\n",
        "print(h) #we specify 3*6 as the dimensions of the array"
      ],
      "metadata": {
        "colab": {
          "base_uri": "https://localhost:8080/"
        },
        "id": "jczKeXyveJBK",
        "outputId": "85773d77-fec3-45d3-f4b5-f23190d41031"
      },
      "execution_count": 44,
      "outputs": [
        {
          "output_type": "stream",
          "name": "stdout",
          "text": [
            "[[0.79835125 0.79201736 0.07680807 0.30620017 0.35155114 0.56003488]\n",
            " [0.24631959 0.98427972 0.95202685 0.35688031 0.20410364 0.98528273]\n",
            " [0.26041624 0.54689137 0.03008723 0.82393632 0.3768507  0.36053352]]\n"
          ]
        }
      ]
    },
    {
      "cell_type": "markdown",
      "source": [
        "**Random generated array range and dimensions of array when given**"
      ],
      "metadata": {
        "id": "5Yoo4Uq_nuZR"
      }
    },
    {
      "cell_type": "code",
      "source": [
        "i = np.random.randint(10,100,(4,5)) # the first two parameters the range from 10 to100 and next(4,5) is for the dimension of array\n",
        "print(i)"
      ],
      "metadata": {
        "colab": {
          "base_uri": "https://localhost:8080/"
        },
        "id": "k9tZXiU7jYvK",
        "outputId": "3709357f-646b-427f-c220-e920f9e73d3c"
      },
      "execution_count": 50,
      "outputs": [
        {
          "output_type": "stream",
          "name": "stdout",
          "text": [
            "[[39 45 14 24 42]\n",
            " [46 83 90 92 95]\n",
            " [32 74 61 60 71]\n",
            " [52 58 61 68 69]]\n"
          ]
        }
      ]
    },
    {
      "cell_type": "markdown",
      "source": [
        "**Array of evenly spaced values --> specifying no. of values required [linspace]**"
      ],
      "metadata": {
        "id": "rj4WCXpHoFTz"
      }
    },
    {
      "cell_type": "code",
      "source": [
        "j = np.linspace(10,30,5) #first two parameters give the range 10 to 30 and the last one gives no of outcomes we desire in between this range\n",
        "print(j)"
      ],
      "metadata": {
        "colab": {
          "base_uri": "https://localhost:8080/"
        },
        "id": "gkepWT20jvj0",
        "outputId": "94c4a317-2d57-480c-89f7-297a6e1a05e7"
      },
      "execution_count": 51,
      "outputs": [
        {
          "output_type": "stream",
          "name": "stdout",
          "text": [
            "[10. 15. 20. 25. 30.]\n"
          ]
        }
      ]
    },
    {
      "cell_type": "markdown",
      "source": [
        "**Array of evenly spaced calues --> specifying no. of steps [arange]**"
      ],
      "metadata": {
        "id": "tXQv500Zrppv"
      }
    },
    {
      "cell_type": "code",
      "source": [
        "k = np.arange(10,30,5) #first two parameters specify range and the last one no. of steps\n",
        "print(k)"
      ],
      "metadata": {
        "colab": {
          "base_uri": "https://localhost:8080/"
        },
        "id": "dapDvZmRrnUm",
        "outputId": "0305e273-1341-48dd-bbba-abae6022ac55"
      },
      "execution_count": 53,
      "outputs": [
        {
          "output_type": "stream",
          "name": "stdout",
          "text": [
            "[10 15 20 25]\n"
          ]
        }
      ]
    },
    {
      "cell_type": "markdown",
      "source": [
        "**Convert a list into a NumPy array**"
      ],
      "metadata": {
        "id": "TXjAjbW0szjG"
      }
    },
    {
      "cell_type": "code",
      "source": [
        "list2 = [10,20,30] #defining a list2 with it's values \n",
        "print(list2) #printing list2\n",
        "type(list2) #printing the data type of list2"
      ],
      "metadata": {
        "colab": {
          "base_uri": "https://localhost:8080/"
        },
        "id": "79Pmzsm4st5a",
        "outputId": "d1d35ca6-1965-40c7-acd6-96d7cb2b9a89"
      },
      "execution_count": 57,
      "outputs": [
        {
          "output_type": "stream",
          "name": "stdout",
          "text": [
            "[10, 20, 30]\n"
          ]
        },
        {
          "output_type": "execute_result",
          "data": {
            "text/plain": [
              "list"
            ]
          },
          "metadata": {},
          "execution_count": 57
        }
      ]
    },
    {
      "cell_type": "code",
      "source": [
        "np_array = np.array(list2) #converting list2 into numpy array\n",
        "print(np_array) #printing np_array\n",
        "type(np_array) #printing data type of np_array"
      ],
      "metadata": {
        "colab": {
          "base_uri": "https://localhost:8080/"
        },
        "outputId": "01291bc9-61b9-4951-8c04-95b1c3ba3651",
        "id": "9CG_t7MluK5r"
      },
      "execution_count": 58,
      "outputs": [
        {
          "output_type": "stream",
          "name": "stdout",
          "text": [
            "[10 20 30]\n"
          ]
        },
        {
          "output_type": "execute_result",
          "data": {
            "text/plain": [
              "numpy.ndarray"
            ]
          },
          "metadata": {},
          "execution_count": 58
        }
      ]
    },
    {
      "cell_type": "markdown",
      "source": [
        "**Analyse NumPy Array**"
      ],
      "metadata": {
        "id": "3tCu1hmvuekE"
      }
    },
    {
      "cell_type": "code",
      "source": [
        "print(c)"
      ],
      "metadata": {
        "colab": {
          "base_uri": "https://localhost:8080/"
        },
        "id": "EjKBFULivYyN",
        "outputId": "8899ad2e-4161-4a08-b6b3-1bc8d47c6ee1"
      },
      "execution_count": 62,
      "outputs": [
        {
          "output_type": "stream",
          "name": "stdout",
          "text": [
            "[[1. 2. 3.]\n",
            " [4. 5. 6.]]\n"
          ]
        }
      ]
    },
    {
      "cell_type": "code",
      "source": [
        "print(c.shape) #shape gives us m*m / dimensions of matrix"
      ],
      "metadata": {
        "colab": {
          "base_uri": "https://localhost:8080/"
        },
        "id": "PsyhP445uTy4",
        "outputId": "a7acb444-eb33-4cd5-92f8-e6ad871cf329"
      },
      "execution_count": 59,
      "outputs": [
        {
          "output_type": "stream",
          "name": "stdout",
          "text": [
            "(2, 3)\n"
          ]
        }
      ]
    },
    {
      "cell_type": "code",
      "source": [
        "print(c.ndim) #ndim gives us dimension and gives only m in (m*m)"
      ],
      "metadata": {
        "colab": {
          "base_uri": "https://localhost:8080/"
        },
        "id": "HQy_z60Butm9",
        "outputId": "408945b3-e7cf-4e39-915c-1f5f4bf97e89"
      },
      "execution_count": 60,
      "outputs": [
        {
          "output_type": "stream",
          "name": "stdout",
          "text": [
            "2\n"
          ]
        }
      ]
    },
    {
      "cell_type": "code",
      "source": [
        "print(c.size) #size gives total number of elements"
      ],
      "metadata": {
        "colab": {
          "base_uri": "https://localhost:8080/"
        },
        "id": "xgLCmfwLu7_R",
        "outputId": "c48e2b1f-b337-4b92-b493-ae4e6d1664c1"
      },
      "execution_count": 61,
      "outputs": [
        {
          "output_type": "stream",
          "name": "stdout",
          "text": [
            "6\n"
          ]
        }
      ]
    },
    {
      "cell_type": "code",
      "source": [
        "print(c.dtype) #dtype gives us the datatype of elements present"
      ],
      "metadata": {
        "colab": {
          "base_uri": "https://localhost:8080/"
        },
        "id": "t4CNVCBmvWOA",
        "outputId": "2813ae73-31df-4260-e122-8e0009ef1586"
      },
      "execution_count": 64,
      "outputs": [
        {
          "output_type": "stream",
          "name": "stdout",
          "text": [
            "float64\n"
          ]
        }
      ]
    },
    {
      "cell_type": "markdown",
      "source": [
        "**Array Manipulation**"
      ],
      "metadata": {
        "id": "FOGV_B8pvzF9"
      }
    },
    {
      "cell_type": "code",
      "source": [
        "array = np.random.randint(0,10,(2,3)) # 2*3 matrix of random numbers between 0 to 10 \n",
        "print(array)\n",
        "print(array.shape) # dimensions of array/matrix"
      ],
      "metadata": {
        "colab": {
          "base_uri": "https://localhost:8080/"
        },
        "id": "ZJ3SJ5kdvgTG",
        "outputId": "1f63adc1-058a-405f-d3b6-818751369a46"
      },
      "execution_count": 66,
      "outputs": [
        {
          "output_type": "stream",
          "name": "stdout",
          "text": [
            "[[2 5 2]\n",
            " [6 9 8]]\n",
            "(2, 3)\n"
          ]
        }
      ]
    },
    {
      "cell_type": "markdown",
      "source": [
        "**Transpose of a matrix**"
      ],
      "metadata": {
        "id": "4vUBwyWTxH0p"
      }
    },
    {
      "cell_type": "code",
      "source": [
        "trans = np.transpose(array) #transposing the 2*3 matrix into 3*2 matrix\n",
        "print(trans)\n",
        "print(trans.shape)"
      ],
      "metadata": {
        "colab": {
          "base_uri": "https://localhost:8080/"
        },
        "id": "ceEfwg_Fwv4s",
        "outputId": "2bd81ae8-98c6-49a2-d5ec-5b2e112b1a91"
      },
      "execution_count": 67,
      "outputs": [
        {
          "output_type": "stream",
          "name": "stdout",
          "text": [
            "[[2 6]\n",
            " [5 9]\n",
            " [2 8]]\n",
            "(3, 2)\n"
          ]
        }
      ]
    },
    {
      "cell_type": "markdown",
      "source": [
        "**Reshaping Array**"
      ],
      "metadata": {
        "id": "DczVFbd2xiTs"
      }
    },
    {
      "cell_type": "code",
      "source": [
        "a = np.random.randint(0,10,(2,3)) # generating random array of dimensions 2*3 elements range between 0 to 10\n",
        "print(a)\n",
        "print(a.shape)"
      ],
      "metadata": {
        "colab": {
          "base_uri": "https://localhost:8080/"
        },
        "id": "Rb7dK3MxxYfB",
        "outputId": "96b06fb0-97d4-4dff-ca22-a5e8632010ff"
      },
      "execution_count": 68,
      "outputs": [
        {
          "output_type": "stream",
          "name": "stdout",
          "text": [
            "[[9 2 0]\n",
            " [9 2 9]]\n",
            "(2, 3)\n"
          ]
        }
      ]
    },
    {
      "cell_type": "code",
      "source": [
        "b = a.reshape(3,2) #reshaping matrix a(2*3) into b matrix of dimensions 3*2\n",
        "print(b)\n",
        "print(b.shape)"
      ],
      "metadata": {
        "colab": {
          "base_uri": "https://localhost:8080/"
        },
        "id": "eNDpIjdQx7Qs",
        "outputId": "c1daed88-ab44-45f0-dc49-41a6b754c9a4"
      },
      "execution_count": 70,
      "outputs": [
        {
          "output_type": "stream",
          "name": "stdout",
          "text": [
            "[[9 2]\n",
            " [0 9]\n",
            " [2 9]]\n",
            "(3, 2)\n"
          ]
        }
      ]
    }
  ]
}
